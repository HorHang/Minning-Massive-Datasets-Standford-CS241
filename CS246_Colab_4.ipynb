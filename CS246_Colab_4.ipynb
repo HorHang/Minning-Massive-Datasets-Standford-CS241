{
  "cells": [
    {
      "cell_type": "markdown",
      "metadata": {
        "id": "kPt5q27L5557"
      },
      "source": [
        "# CS246 - Colab 4\n",
        "## Collaborative Filtering"
      ]
    },
    {
      "cell_type": "code",
      "source": [
        "from IPython.display import Image\n",
        "print(\"Colab 4 Mascot\")\n",
        "Image(url='https://media4.giphy.com/media/wtdVYmaRWJ1PyPcc8e/giphy.gif?cid=ecf05e478jdbzo92b89f2b5ud5184xda9cen1xce4bwmjeyu&ep=v1_stickers_search&rid=giphy.gif&ct=s',width=150)"
      ],
      "metadata": {
        "colab": {
          "base_uri": "https://localhost:8080/",
          "height": 189
        },
        "id": "qcTbH0d9e0Nf",
        "outputId": "aae50815-ea61-4747-c5c8-49b14e450a28"
      },
      "execution_count": 1,
      "outputs": [
        {
          "output_type": "stream",
          "name": "stdout",
          "text": [
            "Colab 4 Mascot\n"
          ]
        },
        {
          "output_type": "execute_result",
          "data": {
            "text/html": [
              "<img src=\"https://media4.giphy.com/media/wtdVYmaRWJ1PyPcc8e/giphy.gif?cid=ecf05e478jdbzo92b89f2b5ud5184xda9cen1xce4bwmjeyu&ep=v1_stickers_search&rid=giphy.gif&ct=s\" width=\"150\"/>"
            ],
            "text/plain": [
              "<IPython.core.display.Image object>"
            ]
          },
          "metadata": {},
          "execution_count": 1
        }
      ]
    },
    {
      "cell_type": "markdown",
      "metadata": {
        "id": "p0-YhEpP_Ds-"
      },
      "source": [
        "### Setup"
      ]
    },
    {
      "cell_type": "markdown",
      "metadata": {
        "id": "Zsj5WYpR9QId"
      },
      "source": [
        "Let's set up Spark on your Colab environment.  Run the cell below!"
      ]
    },
    {
      "cell_type": "code",
      "execution_count": 2,
      "metadata": {
        "colab": {
          "base_uri": "https://localhost:8080/"
        },
        "id": "k-qHai2252mI",
        "outputId": "323d80e8-e5c9-488e-880e-85246c8efc0b"
      },
      "outputs": [
        {
          "output_type": "stream",
          "name": "stdout",
          "text": [
            "Collecting pyspark\n",
            "  Downloading pyspark-3.4.1.tar.gz (310.8 MB)\n",
            "\u001b[2K     \u001b[90m━━━━━━━━━━━━━━━━━━━━━━━━━━━━━━━━━━━━━━━\u001b[0m \u001b[32m310.8/310.8 MB\u001b[0m \u001b[31m2.6 MB/s\u001b[0m eta \u001b[36m0:00:00\u001b[0m\n",
            "\u001b[?25h  Preparing metadata (setup.py) ... \u001b[?25l\u001b[?25hdone\n",
            "Requirement already satisfied: py4j==0.10.9.7 in /usr/local/lib/python3.10/dist-packages (from pyspark) (0.10.9.7)\n",
            "Building wheels for collected packages: pyspark\n",
            "  Building wheel for pyspark (setup.py) ... \u001b[?25l\u001b[?25hdone\n",
            "  Created wheel for pyspark: filename=pyspark-3.4.1-py2.py3-none-any.whl size=311285397 sha256=a0baffea6e7ae7351af26c13cb46707274bc3d667a747b92813c7c52880c0f01\n",
            "  Stored in directory: /root/.cache/pip/wheels/0d/77/a3/ff2f74cc9ab41f8f594dabf0579c2a7c6de920d584206e0834\n",
            "Successfully built pyspark\n",
            "Installing collected packages: pyspark\n",
            "Successfully installed pyspark-3.4.1\n",
            "The following additional packages will be installed:\n",
            "  libxtst6 openjdk-8-jre-headless\n",
            "Suggested packages:\n",
            "  openjdk-8-demo openjdk-8-source libnss-mdns fonts-dejavu-extra\n",
            "  fonts-ipafont-gothic fonts-ipafont-mincho fonts-wqy-microhei\n",
            "  fonts-wqy-zenhei fonts-indic\n",
            "The following NEW packages will be installed:\n",
            "  libxtst6 openjdk-8-jdk-headless openjdk-8-jre-headless\n",
            "0 upgraded, 3 newly installed, 0 to remove and 8 not upgraded.\n",
            "Need to get 39.7 MB of archives.\n",
            "After this operation, 144 MB of additional disk space will be used.\n",
            "Selecting previously unselected package libxtst6:amd64.\n",
            "(Reading database ... 120493 files and directories currently installed.)\n",
            "Preparing to unpack .../libxtst6_2%3a1.2.3-1build4_amd64.deb ...\n",
            "Unpacking libxtst6:amd64 (2:1.2.3-1build4) ...\n",
            "Selecting previously unselected package openjdk-8-jre-headless:amd64.\n",
            "Preparing to unpack .../openjdk-8-jre-headless_8u372-ga~us1-0ubuntu1~22.04_amd64.deb ...\n",
            "Unpacking openjdk-8-jre-headless:amd64 (8u372-ga~us1-0ubuntu1~22.04) ...\n",
            "Selecting previously unselected package openjdk-8-jdk-headless:amd64.\n",
            "Preparing to unpack .../openjdk-8-jdk-headless_8u372-ga~us1-0ubuntu1~22.04_amd64.deb ...\n",
            "Unpacking openjdk-8-jdk-headless:amd64 (8u372-ga~us1-0ubuntu1~22.04) ...\n",
            "Setting up libxtst6:amd64 (2:1.2.3-1build4) ...\n",
            "Setting up openjdk-8-jre-headless:amd64 (8u372-ga~us1-0ubuntu1~22.04) ...\n",
            "update-alternatives: using /usr/lib/jvm/java-8-openjdk-amd64/jre/bin/orbd to provide /usr/bin/orbd (orbd) in auto mode\n",
            "update-alternatives: using /usr/lib/jvm/java-8-openjdk-amd64/jre/bin/servertool to provide /usr/bin/servertool (servertool) in auto mode\n",
            "update-alternatives: using /usr/lib/jvm/java-8-openjdk-amd64/jre/bin/tnameserv to provide /usr/bin/tnameserv (tnameserv) in auto mode\n",
            "Setting up openjdk-8-jdk-headless:amd64 (8u372-ga~us1-0ubuntu1~22.04) ...\n",
            "update-alternatives: using /usr/lib/jvm/java-8-openjdk-amd64/bin/clhsdb to provide /usr/bin/clhsdb (clhsdb) in auto mode\n",
            "update-alternatives: using /usr/lib/jvm/java-8-openjdk-amd64/bin/extcheck to provide /usr/bin/extcheck (extcheck) in auto mode\n",
            "update-alternatives: using /usr/lib/jvm/java-8-openjdk-amd64/bin/hsdb to provide /usr/bin/hsdb (hsdb) in auto mode\n",
            "update-alternatives: using /usr/lib/jvm/java-8-openjdk-amd64/bin/idlj to provide /usr/bin/idlj (idlj) in auto mode\n",
            "update-alternatives: using /usr/lib/jvm/java-8-openjdk-amd64/bin/javah to provide /usr/bin/javah (javah) in auto mode\n",
            "update-alternatives: using /usr/lib/jvm/java-8-openjdk-amd64/bin/jhat to provide /usr/bin/jhat (jhat) in auto mode\n",
            "update-alternatives: using /usr/lib/jvm/java-8-openjdk-amd64/bin/jsadebugd to provide /usr/bin/jsadebugd (jsadebugd) in auto mode\n",
            "update-alternatives: using /usr/lib/jvm/java-8-openjdk-amd64/bin/native2ascii to provide /usr/bin/native2ascii (native2ascii) in auto mode\n",
            "update-alternatives: using /usr/lib/jvm/java-8-openjdk-amd64/bin/schemagen to provide /usr/bin/schemagen (schemagen) in auto mode\n",
            "update-alternatives: using /usr/lib/jvm/java-8-openjdk-amd64/bin/wsgen to provide /usr/bin/wsgen (wsgen) in auto mode\n",
            "update-alternatives: using /usr/lib/jvm/java-8-openjdk-amd64/bin/wsimport to provide /usr/bin/wsimport (wsimport) in auto mode\n",
            "update-alternatives: using /usr/lib/jvm/java-8-openjdk-amd64/bin/xjc to provide /usr/bin/xjc (xjc) in auto mode\n",
            "Processing triggers for libc-bin (2.35-0ubuntu3.1) ...\n"
          ]
        }
      ],
      "source": [
        "!pip install pyspark\n",
        "!pip install -U -q PyDrive\n",
        "!apt install openjdk-8-jdk-headless -qq\n",
        "import os\n",
        "os.environ[\"JAVA_HOME\"] = \"/usr/lib/jvm/java-8-openjdk-amd64\""
      ]
    },
    {
      "cell_type": "markdown",
      "metadata": {
        "id": "PUUjUvXe3Sjk"
      },
      "source": [
        "Now we authenticate a Google Drive client to download the files we will be processing in our Spark job.\n",
        "\n",
        "**Make sure to follow the interactive instructions.**"
      ]
    },
    {
      "cell_type": "code",
      "execution_count": 3,
      "metadata": {
        "id": "lRElWs_x2mGh"
      },
      "outputs": [],
      "source": [
        "from pydrive.auth import GoogleAuth\n",
        "from pydrive.drive import GoogleDrive\n",
        "from google.colab import auth\n",
        "from oauth2client.client import GoogleCredentials\n",
        "\n",
        "# Authenticate and create the PyDrive client\n",
        "auth.authenticate_user()\n",
        "gauth = GoogleAuth()\n",
        "gauth.credentials = GoogleCredentials.get_application_default()\n",
        "drive = GoogleDrive(gauth)"
      ]
    },
    {
      "cell_type": "code",
      "execution_count": 4,
      "metadata": {
        "id": "QHsFTGUy2n1c"
      },
      "outputs": [],
      "source": [
        "id='1QtPy_HuIMSzhtYllT3-WeM3Sqg55wK_D'\n",
        "downloaded = drive.CreateFile({'id': id})\n",
        "downloaded.GetContentFile('MovieLens.training')\n",
        "\n",
        "id='1ePqnsQTJRRvQcBoF2EhoPU8CU1i5byHK'\n",
        "downloaded = drive.CreateFile({'id': id})\n",
        "downloaded.GetContentFile('MovieLens.test')\n",
        "\n",
        "id='1ncUBWdI5AIt3FDUJokbMqpHD2knd5ebp'\n",
        "downloaded = drive.CreateFile({'id': id})\n",
        "downloaded.GetContentFile('MovieLens.item')"
      ]
    },
    {
      "cell_type": "markdown",
      "metadata": {
        "id": "qwtlO4_m_LbQ"
      },
      "source": [
        "If you executed the cells above, you should be able to see the dataset we will use for this Colab under the \"Files\" tab on the left panel.\n",
        "\n",
        "Next, we import some of the common libraries needed for our task."
      ]
    },
    {
      "cell_type": "code",
      "execution_count": 5,
      "metadata": {
        "id": "twk-K-jilWK7"
      },
      "outputs": [],
      "source": [
        "import pandas as pd\n",
        "import numpy as np\n",
        "import matplotlib.pyplot as plt\n",
        "%matplotlib inline\n",
        "\n",
        "import pyspark\n",
        "from pyspark.sql import *\n",
        "from pyspark.sql.types import *\n",
        "from pyspark.sql.functions import *\n",
        "from pyspark import SparkContext, SparkConf"
      ]
    },
    {
      "cell_type": "markdown",
      "metadata": {
        "id": "BtrJlMBt1Ela"
      },
      "source": [
        "Let's initialize the Spark context."
      ]
    },
    {
      "cell_type": "code",
      "execution_count": 6,
      "metadata": {
        "id": "Vm3sAVeK1EDZ"
      },
      "outputs": [],
      "source": [
        "# create the session\n",
        "conf = SparkConf().set(\"spark.ui.port\", \"4050\")\n",
        "\n",
        "# create the context\n",
        "sc = pyspark.SparkContext(conf=conf)\n",
        "spark = SparkSession.builder.getOrCreate()"
      ]
    },
    {
      "cell_type": "markdown",
      "metadata": {
        "id": "kAYRX2PMm0L6"
      },
      "source": [
        "### Data Loading"
      ]
    },
    {
      "cell_type": "markdown",
      "metadata": {
        "id": "7hXdMR6wnEIM"
      },
      "source": [
        "In this Colab, we will be using the [MovieLens dataset](https://grouplens.org/datasets/movielens/), specifically the 100K dataset (which contains in total 100,000 ratings from 1000 users on ~1700 movies).\n",
        "\n",
        "We load the ratings data in a 80%-20% ```training```/```test``` split, while the ```items``` dataframe contains the movie titles associated to the item identifiers."
      ]
    },
    {
      "cell_type": "code",
      "execution_count": 7,
      "metadata": {
        "id": "5K93ABEy9Zlo"
      },
      "outputs": [],
      "source": [
        "schema_ratings = StructType([\n",
        "    StructField(\"user_id\", IntegerType(), False),\n",
        "    StructField(\"item_id\", IntegerType(), False),\n",
        "    StructField(\"rating\", IntegerType(), False),\n",
        "    StructField(\"timestamp\", IntegerType(), False)])\n",
        "\n",
        "schema_items = StructType([\n",
        "    StructField(\"item_id\", IntegerType(), False),\n",
        "    StructField(\"movie\", StringType(), False)])\n",
        "\n",
        "training = spark.read.option(\"sep\", \"\\t\").csv(\"MovieLens.training\", header=False, schema=schema_ratings)\n",
        "test = spark.read.option(\"sep\", \"\\t\").csv(\"MovieLens.test\", header=False, schema=schema_ratings)\n",
        "items = spark.read.option(\"sep\", \"|\").csv(\"MovieLens.item\", header=False, schema=schema_items)"
      ]
    },
    {
      "cell_type": "code",
      "execution_count": 8,
      "metadata": {
        "id": "MC_m1oygCoEm",
        "outputId": "b8639ce8-51ff-4718-d53f-b90726f5f415",
        "colab": {
          "base_uri": "https://localhost:8080/"
        }
      },
      "outputs": [
        {
          "output_type": "stream",
          "name": "stdout",
          "text": [
            "root\n",
            " |-- user_id: integer (nullable = true)\n",
            " |-- item_id: integer (nullable = true)\n",
            " |-- rating: integer (nullable = true)\n",
            " |-- timestamp: integer (nullable = true)\n",
            "\n"
          ]
        }
      ],
      "source": [
        "training.printSchema()"
      ]
    },
    {
      "cell_type": "code",
      "execution_count": 9,
      "metadata": {
        "id": "81Vgo4ovCqtQ",
        "outputId": "7fb58190-0e2e-4b42-9c8d-088fadf99977",
        "colab": {
          "base_uri": "https://localhost:8080/"
        }
      },
      "outputs": [
        {
          "output_type": "stream",
          "name": "stdout",
          "text": [
            "root\n",
            " |-- item_id: integer (nullable = true)\n",
            " |-- movie: string (nullable = true)\n",
            "\n"
          ]
        }
      ],
      "source": [
        "items.printSchema()"
      ]
    },
    {
      "cell_type": "code",
      "source": [
        "training.take(3), items.take(3)"
      ],
      "metadata": {
        "id": "u7XuFuawmU0y",
        "outputId": "a4c02a09-906b-4f9a-da38-d4b4f10fe44b",
        "colab": {
          "base_uri": "https://localhost:8080/"
        }
      },
      "execution_count": 10,
      "outputs": [
        {
          "output_type": "execute_result",
          "data": {
            "text/plain": [
              "([Row(user_id=1, item_id=1, rating=5, timestamp=874965758),\n",
              "  Row(user_id=1, item_id=2, rating=3, timestamp=876893171),\n",
              "  Row(user_id=1, item_id=3, rating=4, timestamp=878542960)],\n",
              " [Row(item_id=1, movie='Toy Story (1995)'),\n",
              "  Row(item_id=2, movie='GoldenEye (1995)'),\n",
              "  Row(item_id=3, movie='Four Rooms (1995)')])"
            ]
          },
          "metadata": {},
          "execution_count": 10
        }
      ]
    },
    {
      "cell_type": "markdown",
      "metadata": {
        "id": "CRaF2A_j_nC7"
      },
      "source": [
        "### Your task"
      ]
    },
    {
      "cell_type": "markdown",
      "metadata": {
        "id": "zM9w2aUvJ7KN"
      },
      "source": [
        "Let's compute some stats!  What is the number of ratings in the training and test dataset? How many movies are in our dataset?"
      ]
    },
    {
      "cell_type": "code",
      "execution_count": 11,
      "metadata": {
        "id": "8XZaH16t_CIw",
        "outputId": "d4e53178-a0fc-45ad-f4c6-cfef33cfa650",
        "colab": {
          "base_uri": "https://localhost:8080/"
        }
      },
      "outputs": [
        {
          "output_type": "stream",
          "name": "stdout",
          "text": [
            "number of rating in train dataset : 80000\n",
            "number of rating in test dataset : 20000\n",
            "total number of movies : 1682\n"
          ]
        }
      ],
      "source": [
        "''' 3 lines of code in total expected.\n",
        "For sub-parts of the question (if any), creating different cells of code would be recommended.'''\n",
        "# YOUR CODE HERE\n",
        "print(f\"number of rating in train dataset : {training.select('rating').count()}\")\n",
        "print(f\"number of rating in test dataset : {test.select('rating').count()}\")\n",
        "print(f\"total number of movies : {items.count()}\")"
      ]
    },
    {
      "cell_type": "markdown",
      "metadata": {
        "id": "wpsaYOqRxar2"
      },
      "source": [
        "Using the training set, train a model with the Alternating Least Squares method available in the Spark MLlib: [https://spark.apache.org/docs/latest/ml-collaborative-filtering.html](https://spark.apache.org/docs/latest/ml-collaborative-filtering.html)"
      ]
    },
    {
      "cell_type": "code",
      "execution_count": 28,
      "metadata": {
        "id": "Oitav_xhQD9w"
      },
      "outputs": [],
      "source": [
        "''' 5-6 lines of code in total expected but can differ based on your style.\n",
        "For sub-parts of the question (if any), creating different cells of code would be recommended.'''\n",
        "# YOUR CODE HERE\n",
        "\n",
        "from pyspark.ml.evaluation import RegressionEvaluator\n",
        "from pyspark.ml.recommendation import ALS\n",
        "\n",
        "als = ALS(maxIter= 5, regParam= 0.01, implicitPrefs= False, userCol= 'user_id', itemCol= 'item_id',\n",
        "          ratingCol= 'rating', coldStartStrategy= 'drop')\n",
        "model = als.fit(training)\n",
        "pred =  model.transform(test)"
      ]
    },
    {
      "cell_type": "markdown",
      "metadata": {
        "id": "TtR1xRvonxiO"
      },
      "source": [
        "Now compute the RMSE on the test dataset.\n"
      ]
    },
    {
      "cell_type": "code",
      "execution_count": 29,
      "metadata": {
        "id": "GP23Xkgwi0SD",
        "outputId": "d9bf5570-e1bb-45ae-ace8-4cf69ab4ee40",
        "colab": {
          "base_uri": "https://localhost:8080/"
        }
      },
      "outputs": [
        {
          "output_type": "stream",
          "name": "stdout",
          "text": [
            "Root-mean-square error = 1.1153028899715283\n"
          ]
        }
      ],
      "source": [
        "''' 4-5 lines of code in total expected but can differ based on your style.\n",
        "For sub-parts of the question (if any), creating different cells of code would be recommended.'''\n",
        "# YOUR CODE HERE\n",
        "eval = RegressionEvaluator(metricName= 'rmse', labelCol= 'rating',\n",
        "                           predictionCol= 'prediction')\n",
        "rmse = eval.evaluate(pred)\n",
        "print('Root-mean-square error = ' + str(rmse))"
      ]
    },
    {
      "cell_type": "markdown",
      "metadata": {
        "id": "lBvSaWGEMHXI"
      },
      "source": [
        "At this point, you can use the trained model to produce the top-K recommendations for each user."
      ]
    },
    {
      "cell_type": "code",
      "execution_count": 22,
      "metadata": {
        "id": "KbMlWL5_UfSc",
        "outputId": "a43fc48a-f91e-4842-e708-a9eb92f6ffa0",
        "colab": {
          "base_uri": "https://localhost:8080/"
        }
      },
      "outputs": [
        {
          "output_type": "stream",
          "name": "stdout",
          "text": [
            "+-------+---------------------------------------------------------+\n",
            "|user_id|recommendations                                          |\n",
            "+-------+---------------------------------------------------------+\n",
            "|1      |[{1160, 6.5482607}, {1093, 6.2612667}, {1195, 6.223744}] |\n",
            "|2      |[{1643, 9.441108}, {1137, 7.8609443}, {536, 7.7400284}]  |\n",
            "|3      |[{1278, 9.51662}, {1426, 9.386078}, {1094, 9.369608}]    |\n",
            "|4      |[{1286, 9.761625}, {1512, 9.690031}, {1127, 9.386446}]   |\n",
            "|5      |[{1427, 8.561757}, {1113, 7.8201594}, {1184, 7.599305}]  |\n",
            "|6      |[{1129, 6.3069057}, {1643, 5.983589}, {1512, 5.928462}]  |\n",
            "|7      |[{1643, 7.137265}, {1022, 6.286331}, {1380, 6.2082057}]  |\n",
            "|8      |[{906, 9.273066}, {1427, 9.032997}, {1426, 8.994077}]    |\n",
            "|9      |[{1140, 13.797903}, {962, 11.869198}, {362, 11.394855}]  |\n",
            "|10     |[{1131, 6.399567}, {1643, 5.976382}, {1368, 5.8514223}]  |\n",
            "|11     |[{1159, 6.603916}, {1203, 6.1173263}, {1426, 5.9382997}] |\n",
            "|12     |[{958, 7.9563804}, {1098, 7.4008846}, {630, 7.2951303}]  |\n",
            "|13     |[{1404, 7.02733}, {1473, 6.9355536}, {1056, 6.3805885}]  |\n",
            "|14     |[{960, 10.136998}, {787, 10.048113}, {965, 8.68334}]     |\n",
            "|15     |[{1094, 9.956326}, {1278, 8.231039}, {1084, 8.022203}]   |\n",
            "|16     |[{1643, 8.473788}, {1380, 7.5641894}, {1022, 7.5315104}] |\n",
            "|17     |[{962, 11.468189}, {1093, 9.029642}, {1240, 8.810971}]   |\n",
            "|18     |[{1195, 5.8176775}, {1084, 5.5684605}, {1642, 5.5160103}]|\n",
            "|19     |[{1015, 9.38232}, {1664, 8.721002}, {1172, 8.437778}]    |\n",
            "|20     |[{1052, 9.835473}, {1313, 8.970736}, {1056, 8.467364}]   |\n",
            "+-------+---------------------------------------------------------+\n",
            "only showing top 20 rows\n",
            "\n",
            "+-------+------------------------------------------------------+\n",
            "|item_id|recommendations                                       |\n",
            "+-------+------------------------------------------------------+\n",
            "|1      |[{241, 7.8867517}, {801, 5.5923843}, {431, 5.52131}]  |\n",
            "|2      |[{9, 6.5687017}, {51, 6.1934514}, {444, 6.173256}]    |\n",
            "|3      |[{443, 8.232768}, {418, 7.6284328}, {39, 7.379552}]   |\n",
            "|4      |[{212, 7.3573728}, {241, 6.8769464}, {702, 6.2602415}]|\n",
            "|5      |[{127, 7.3005757}, {434, 6.330281}, {636, 6.198905}]  |\n",
            "|6      |[{124, 10.956927}, {317, 10.956777}, {93, 10.950613}] |\n",
            "|7      |[{241, 6.953233}, {400, 5.980153}, {471, 5.5612855}]  |\n",
            "|8      |[{241, 8.132807}, {9, 7.4030604}, {212, 6.788844}]    |\n",
            "|9      |[{241, 7.2764587}, {147, 7.1296873}, {353, 6.765257}] |\n",
            "|10     |[{241, 8.001062}, {212, 7.710602}, {147, 7.146059}]   |\n",
            "|11     |[{212, 8.08447}, {153, 7.0361466}, {762, 6.69367}]    |\n",
            "|12     |[{241, 7.7382016}, {212, 6.817505}, {762, 6.7062883}] |\n",
            "|13     |[{212, 7.432057}, {353, 7.122348}, {241, 7.121323}]   |\n",
            "|14     |[{98, 6.8665094}, {353, 6.075838}, {928, 5.9450293}]  |\n",
            "|15     |[{241, 5.989818}, {462, 5.9335604}, {589, 5.804705}]  |\n",
            "|16     |[{245, 8.05065}, {366, 8.003285}, {47, 7.392453}]     |\n",
            "|17     |[{471, 7.4380198}, {400, 6.919838}, {96, 6.907893}]   |\n",
            "|18     |[{9, 11.060191}, {245, 9.78966}, {475, 9.516335}]     |\n",
            "|19     |[{258, 10.540676}, {153, 9.173638}, {917, 8.906627}]  |\n",
            "|20     |[{147, 8.669142}, {732, 7.895296}, {317, 7.8068366}]  |\n",
            "+-------+------------------------------------------------------+\n",
            "only showing top 20 rows\n",
            "\n"
          ]
        },
        {
          "output_type": "execute_result",
          "data": {
            "text/plain": [
              "(None, None)"
            ]
          },
          "metadata": {},
          "execution_count": 22
        }
      ],
      "source": [
        "''' 9-10 lines of code in total expected but can differ based on your style.\n",
        "For sub-parts of the question (if any), creating different cells of code would be recommended.'''\n",
        "# YOUR CODE HERE\n",
        "userRecs = model.recommendForAllUsers(3)\n",
        "movieRecs = model.recommendForAllItems(3)\n",
        "userRecs.show(truncate= False), movieRecs.show(truncate= False)"
      ]
    },
    {
      "cell_type": "code",
      "source": [
        "users = test.select(als.getUserCol()).distinct().limit(3)\n",
        "userSubSetRecs = model.recommendForUserSubset(users, 3)\n",
        "userSubSetRecs.show(truncate= False)"
      ],
      "metadata": {
        "id": "YC0tMInmfVO4",
        "outputId": "aa3d730c-9c1b-4f1a-952e-f321342a88e4",
        "colab": {
          "base_uri": "https://localhost:8080/"
        }
      },
      "execution_count": 24,
      "outputs": [
        {
          "output_type": "stream",
          "name": "stdout",
          "text": [
            "+-------+--------------------------------------------------------+\n",
            "|user_id|recommendations                                         |\n",
            "+-------+--------------------------------------------------------+\n",
            "|392    |[{793, 6.3921146}, {1643, 6.0786967}, {1368, 5.9607916}]|\n",
            "|243    |[{512, 5.330564}, {1426, 5.3036795}, {1203, 5.282448}]  |\n",
            "|148    |[{574, 14.713096}, {1380, 13.220155}, {1022, 12.419528}]|\n",
            "+-------+--------------------------------------------------------+\n",
            "\n"
          ]
        }
      ]
    },
    {
      "cell_type": "code",
      "source": [
        "movies = test.select(als.getItemCol()).distinct().limit(3)\n",
        "movieSubSetRecs = model.recommendForItemSubset(movies, 3)\n",
        "movieSubSetRecs.show(truncate= False)"
      ],
      "metadata": {
        "id": "dyElx9g2g7dC",
        "outputId": "c91fbbb1-bd7c-456d-deb2-b9316c30c393",
        "colab": {
          "base_uri": "https://localhost:8080/"
        }
      },
      "execution_count": 25,
      "outputs": [
        {
          "output_type": "stream",
          "name": "stdout",
          "text": [
            "+-------+---------------------------------------------------+\n",
            "|item_id|recommendations                                    |\n",
            "+-------+---------------------------------------------------+\n",
            "|471    |[{241, 5.368663}, {252, 5.293691}, {811, 5.207682}]|\n",
            "|463    |[{212, 9.31592}, {9, 8.229258}, {444, 7.414538}]   |\n",
            "|148    |[{471, 6.233775}, {39, 6.158992}, {589, 6.0845156}]|\n",
            "+-------+---------------------------------------------------+\n",
            "\n"
          ]
        }
      ]
    },
    {
      "cell_type": "markdown",
      "metadata": {
        "id": "SIrXJyVNP2AI"
      },
      "source": [
        "Once you have working code for each cell above, **head over to Gradescope, carefully read the questions, and submit your solution for this Colab**!"
      ]
    },
    {
      "cell_type": "code",
      "source": [],
      "metadata": {
        "id": "LhubtaWbqkOp"
      },
      "execution_count": null,
      "outputs": []
    }
  ],
  "metadata": {
    "colab": {
      "provenance": []
    },
    "kernelspec": {
      "display_name": "Python 3",
      "name": "python3"
    }
  },
  "nbformat": 4,
  "nbformat_minor": 0
}