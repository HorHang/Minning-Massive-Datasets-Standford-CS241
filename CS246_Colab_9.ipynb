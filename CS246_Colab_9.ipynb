{
  "nbformat": 4,
  "nbformat_minor": 0,
  "metadata": {
    "colab": {
      "provenance": []
    },
    "kernelspec": {
      "name": "python3",
      "display_name": "Python 3"
    }
  },
  "cells": [
    {
      "cell_type": "markdown",
      "metadata": {
        "id": "kPt5q27L5557"
      },
      "source": [
        "# CS246 - Colab 9\n",
        "## Studying COVID-19"
      ]
    },
    {
      "cell_type": "code",
      "source": [
        "from IPython.display import Image\n",
        "print(\"Colab 9 Mascot saying Bye-Bye :( \\n\")\n",
        "Image(url='https://media.giphy.com/media/tuvMgAPzxaQBq/giphy.gif',width=200)"
      ],
      "metadata": {
        "colab": {
          "base_uri": "https://localhost:8080/",
          "height": 211
        },
        "id": "mittXosPIUOV",
        "outputId": "ad658178-46fa-425c-8004-f6df3c50963d"
      },
      "execution_count": 1,
      "outputs": [
        {
          "output_type": "stream",
          "name": "stdout",
          "text": [
            "Colab 9 Mascot saying Bye-Bye :( \n",
            "\n"
          ]
        },
        {
          "output_type": "execute_result",
          "data": {
            "text/html": [
              "<img src=\"https://media.giphy.com/media/tuvMgAPzxaQBq/giphy.gif\" width=\"200\"/>"
            ],
            "text/plain": [
              "<IPython.core.display.Image object>"
            ]
          },
          "metadata": {},
          "execution_count": 1
        }
      ]
    },
    {
      "cell_type": "markdown",
      "metadata": {
        "id": "p0-YhEpP_Ds-"
      },
      "source": [
        "### Setup"
      ]
    },
    {
      "cell_type": "markdown",
      "metadata": {
        "id": "Zsj5WYpR9QId"
      },
      "source": [
        "Let's set up Spark on your Colab environment.  Run the cell below!"
      ]
    },
    {
      "cell_type": "code",
      "metadata": {
        "id": "k-qHai2252mI",
        "outputId": "1362c76f-a433-42e9-a817-9ba45922e548",
        "colab": {
          "base_uri": "https://localhost:8080/"
        }
      },
      "source": [
        "!pip install pyspark\n",
        "!pip install -U -q PyDrive\n",
        "!apt install openjdk-8-jdk-headless -qq\n",
        "import os\n",
        "os.environ[\"JAVA_HOME\"] = \"/usr/lib/jvm/java-8-openjdk-amd64\""
      ],
      "execution_count": 2,
      "outputs": [
        {
          "output_type": "stream",
          "name": "stdout",
          "text": [
            "Collecting pyspark\n",
            "  Downloading pyspark-3.4.1.tar.gz (310.8 MB)\n",
            "\u001b[2K     \u001b[90m━━━━━━━━━━━━━━━━━━━━━━━━━━━━━━━━━━━━━━━\u001b[0m \u001b[32m310.8/310.8 MB\u001b[0m \u001b[31m1.9 MB/s\u001b[0m eta \u001b[36m0:00:00\u001b[0m\n",
            "\u001b[?25h  Preparing metadata (setup.py) ... \u001b[?25l\u001b[?25hdone\n",
            "Requirement already satisfied: py4j==0.10.9.7 in /usr/local/lib/python3.10/dist-packages (from pyspark) (0.10.9.7)\n",
            "Building wheels for collected packages: pyspark\n",
            "  Building wheel for pyspark (setup.py) ... \u001b[?25l\u001b[?25hdone\n",
            "  Created wheel for pyspark: filename=pyspark-3.4.1-py2.py3-none-any.whl size=311285397 sha256=a5f37f767cbf47dd06a6a569e93c1fd4c5c123d935c48cd967ea2c667b728555\n",
            "  Stored in directory: /root/.cache/pip/wheels/0d/77/a3/ff2f74cc9ab41f8f594dabf0579c2a7c6de920d584206e0834\n",
            "Successfully built pyspark\n",
            "Installing collected packages: pyspark\n",
            "Successfully installed pyspark-3.4.1\n",
            "The following additional packages will be installed:\n",
            "  libxtst6 openjdk-8-jre-headless\n",
            "Suggested packages:\n",
            "  openjdk-8-demo openjdk-8-source libnss-mdns fonts-dejavu-extra fonts-nanum\n",
            "  fonts-ipafont-gothic fonts-ipafont-mincho fonts-wqy-microhei\n",
            "  fonts-wqy-zenhei fonts-indic\n",
            "The following NEW packages will be installed:\n",
            "  libxtst6 openjdk-8-jdk-headless openjdk-8-jre-headless\n",
            "0 upgraded, 3 newly installed, 0 to remove and 15 not upgraded.\n",
            "Need to get 39.7 MB of archives.\n",
            "After this operation, 144 MB of additional disk space will be used.\n",
            "Selecting previously unselected package libxtst6:amd64.\n",
            "(Reading database ... 120500 files and directories currently installed.)\n",
            "Preparing to unpack .../libxtst6_2%3a1.2.3-1build4_amd64.deb ...\n",
            "Unpacking libxtst6:amd64 (2:1.2.3-1build4) ...\n",
            "Selecting previously unselected package openjdk-8-jre-headless:amd64.\n",
            "Preparing to unpack .../openjdk-8-jre-headless_8u382-ga-1~22.04.1_amd64.deb ...\n",
            "Unpacking openjdk-8-jre-headless:amd64 (8u382-ga-1~22.04.1) ...\n",
            "Selecting previously unselected package openjdk-8-jdk-headless:amd64.\n",
            "Preparing to unpack .../openjdk-8-jdk-headless_8u382-ga-1~22.04.1_amd64.deb ...\n",
            "Unpacking openjdk-8-jdk-headless:amd64 (8u382-ga-1~22.04.1) ...\n",
            "Setting up libxtst6:amd64 (2:1.2.3-1build4) ...\n",
            "Setting up openjdk-8-jre-headless:amd64 (8u382-ga-1~22.04.1) ...\n",
            "update-alternatives: using /usr/lib/jvm/java-8-openjdk-amd64/jre/bin/orbd to provide /usr/bin/orbd (orbd) in auto mode\n",
            "update-alternatives: using /usr/lib/jvm/java-8-openjdk-amd64/jre/bin/servertool to provide /usr/bin/servertool (servertool) in auto mode\n",
            "update-alternatives: using /usr/lib/jvm/java-8-openjdk-amd64/jre/bin/tnameserv to provide /usr/bin/tnameserv (tnameserv) in auto mode\n",
            "Setting up openjdk-8-jdk-headless:amd64 (8u382-ga-1~22.04.1) ...\n",
            "update-alternatives: using /usr/lib/jvm/java-8-openjdk-amd64/bin/clhsdb to provide /usr/bin/clhsdb (clhsdb) in auto mode\n",
            "update-alternatives: using /usr/lib/jvm/java-8-openjdk-amd64/bin/extcheck to provide /usr/bin/extcheck (extcheck) in auto mode\n",
            "update-alternatives: using /usr/lib/jvm/java-8-openjdk-amd64/bin/hsdb to provide /usr/bin/hsdb (hsdb) in auto mode\n",
            "update-alternatives: using /usr/lib/jvm/java-8-openjdk-amd64/bin/idlj to provide /usr/bin/idlj (idlj) in auto mode\n",
            "update-alternatives: using /usr/lib/jvm/java-8-openjdk-amd64/bin/javah to provide /usr/bin/javah (javah) in auto mode\n",
            "update-alternatives: using /usr/lib/jvm/java-8-openjdk-amd64/bin/jhat to provide /usr/bin/jhat (jhat) in auto mode\n",
            "update-alternatives: using /usr/lib/jvm/java-8-openjdk-amd64/bin/jsadebugd to provide /usr/bin/jsadebugd (jsadebugd) in auto mode\n",
            "update-alternatives: using /usr/lib/jvm/java-8-openjdk-amd64/bin/native2ascii to provide /usr/bin/native2ascii (native2ascii) in auto mode\n",
            "update-alternatives: using /usr/lib/jvm/java-8-openjdk-amd64/bin/schemagen to provide /usr/bin/schemagen (schemagen) in auto mode\n",
            "update-alternatives: using /usr/lib/jvm/java-8-openjdk-amd64/bin/wsgen to provide /usr/bin/wsgen (wsgen) in auto mode\n",
            "update-alternatives: using /usr/lib/jvm/java-8-openjdk-amd64/bin/wsimport to provide /usr/bin/wsimport (wsimport) in auto mode\n",
            "update-alternatives: using /usr/lib/jvm/java-8-openjdk-amd64/bin/xjc to provide /usr/bin/xjc (xjc) in auto mode\n",
            "Processing triggers for libc-bin (2.35-0ubuntu3.1) ...\n"
          ]
        }
      ]
    },
    {
      "cell_type": "markdown",
      "metadata": {
        "id": "PUUjUvXe3Sjk"
      },
      "source": [
        "Now we authenticate a Google Drive client to download the files we will be processing in our Spark job.\n",
        "\n",
        "**Make sure to follow the interactive instructions.**"
      ]
    },
    {
      "cell_type": "code",
      "metadata": {
        "id": "lRElWs_x2mGh"
      },
      "source": [
        "from pydrive.auth import GoogleAuth\n",
        "from pydrive.drive import GoogleDrive\n",
        "from google.colab import auth\n",
        "from oauth2client.client import GoogleCredentials\n",
        "\n",
        "# Authenticate and create the PyDrive client\n",
        "auth.authenticate_user()\n",
        "gauth = GoogleAuth()\n",
        "gauth.credentials = GoogleCredentials.get_application_default()\n",
        "drive = GoogleDrive(gauth)"
      ],
      "execution_count": 3,
      "outputs": []
    },
    {
      "cell_type": "code",
      "metadata": {
        "id": "QHsFTGUy2n1c"
      },
      "source": [
        "id='1YT7ttUAafCjbVdm6obeHp1TWAK0rEtoR'\n",
        "downloaded = drive.CreateFile({'id': id})\n",
        "downloaded.GetContentFile('time_series_covid19_confirmed_global.csv')\n",
        "\n",
        "id='1YxEA5UQ2EFJ_9oLssM__Gs1ncVNufGNA'\n",
        "downloaded = drive.CreateFile({'id': id})\n",
        "downloaded.GetContentFile('time_series_covid19_deaths_global.csv')\n",
        "\n",
        "id='1CNxszuZTeIw-5cF5yrzKMZdb1qV0hSoy'\n",
        "downloaded = drive.CreateFile({'id': id})\n",
        "downloaded.GetContentFile('time_series_covid19_recovered_global.csv')"
      ],
      "execution_count": 4,
      "outputs": []
    },
    {
      "cell_type": "markdown",
      "metadata": {
        "id": "qwtlO4_m_LbQ"
      },
      "source": [
        "If you executed the cells above, you should be able to see the dataset we will use for this Colab under the \"Files\" tab on the left panel.\n",
        "\n",
        "Next, we import some of the common libraries needed for our task."
      ]
    },
    {
      "cell_type": "code",
      "metadata": {
        "id": "twk-K-jilWK7"
      },
      "source": [
        "import pandas as pd\n",
        "import numpy as np\n",
        "import matplotlib.pyplot as plt\n",
        "%matplotlib inline\n",
        "\n",
        "import pyspark\n",
        "from pyspark.sql import *\n",
        "from pyspark.sql.types import *\n",
        "from pyspark.sql.functions import *\n",
        "from pyspark import SparkContext, SparkConf"
      ],
      "execution_count": 5,
      "outputs": []
    },
    {
      "cell_type": "markdown",
      "metadata": {
        "id": "BtrJlMBt1Ela"
      },
      "source": [
        "Let's initialize the Spark context."
      ]
    },
    {
      "cell_type": "code",
      "metadata": {
        "id": "Vm3sAVeK1EDZ"
      },
      "source": [
        "# create the session\n",
        "conf = SparkConf().set(\"spark.ui.port\", \"4050\")\n",
        "\n",
        "# create the context\n",
        "sc = pyspark.SparkContext(conf=conf)\n",
        "spark = SparkSession.builder.getOrCreate()"
      ],
      "execution_count": 6,
      "outputs": []
    },
    {
      "cell_type": "markdown",
      "metadata": {
        "id": "kAYRX2PMm0L6"
      },
      "source": [
        "### Data Loading"
      ]
    },
    {
      "cell_type": "markdown",
      "metadata": {
        "id": "7hXdMR6wnEIM"
      },
      "source": [
        "In this Colab, we will be analyzing the time series data of the Coronavirus COVID-19 Global Cases, collected by Johns Hopkins CSSE.\n",
        "\n",
        "Here you can check a realtime dashboard based on this dataset: [https://www.arcgis.com/apps/opsdashboard/index.html?fbclid=IwAR2hQKsEZ3D38wVtXGryUhP9CG0Z6MYbUM_boPEaV8FBe71wUvDPc65ZG78#/bda7594740fd40299423467b48e9ecf6](https://www.arcgis.com/apps/opsdashboard/index.html?fbclid=IwAR2hQKsEZ3D38wVtXGryUhP9CG0Z6MYbUM_boPEaV8FBe71wUvDPc65ZG78#/bda7594740fd40299423467b48e9ecf6)\n",
        "\n",
        "---\n",
        "\n",
        "\n",
        "\n",
        "*   ```confirmed```: dataframe containing the cumulative number of confirmed COVID-19 cases, divided by geographical area\n",
        "*   ```deaths```: dataframe containing the cumulative number of deaths due to COVID-19, divided by geographical area\n",
        "*   ```recovered```: dataframe containing the cumulative number of recoevered patients, divided by geographical area\n",
        "\n",
        "The data sets contain data entries for each day, representing the cumulative totals as of that day.\n",
        "\n",
        "\n",
        "\n",
        "\n",
        "\n"
      ]
    },
    {
      "cell_type": "code",
      "metadata": {
        "id": "EUSeIQlNqv6J"
      },
      "source": [
        "confirmed = spark.read.csv('time_series_covid19_confirmed_global.csv', header=True)\n",
        "deaths = spark.read.csv('time_series_covid19_deaths_global.csv', header=True)\n",
        "recovered = spark.read.csv('time_series_covid19_recovered_global.csv', header=True)"
      ],
      "execution_count": 7,
      "outputs": []
    },
    {
      "cell_type": "code",
      "source": [
        "import pyspark.pandas as ps\n",
        "\n",
        "df1 = ps.DataFrame({'lkey': ['foo', 'bar', 'baz', 'foo'],\n",
        "                    'value': [1, 2, 3, 5]},\n",
        "                   columns=['lkey', 'value'])\n",
        "df2 = ps.DataFrame({'rkey': ['foo', 'bar', 'baz', 'foo'],\n",
        "                    'value': [5, 6, 7, 8]},\n",
        "                   columns=['rkey', 'value'])"
      ],
      "metadata": {
        "id": "cCKagRcP91Dv"
      },
      "execution_count": 128,
      "outputs": []
    },
    {
      "cell_type": "code",
      "source": [
        "df1, df2"
      ],
      "metadata": {
        "id": "0crx6L8G_b3R",
        "outputId": "b7abbd67-4486-47e1-b3d4-1745b9b1035e",
        "colab": {
          "base_uri": "https://localhost:8080/"
        }
      },
      "execution_count": 129,
      "outputs": [
        {
          "output_type": "execute_result",
          "data": {
            "text/plain": [
              "(  lkey  value\n",
              " 0  foo      1\n",
              " 1  bar      2\n",
              " 2  baz      3\n",
              " 3  foo      5,\n",
              "   rkey  value\n",
              " 0  foo      5\n",
              " 1  bar      6\n",
              " 2  baz      7\n",
              " 3  foo      8)"
            ]
          },
          "metadata": {},
          "execution_count": 129
        }
      ]
    },
    {
      "cell_type": "code",
      "source": [
        "df1.merge(df2, left_on= 'lkey', right_on= 'rkey')"
      ],
      "metadata": {
        "id": "0tnv68he_jSt",
        "outputId": "c59b5d31-8729-4c72-e236-63ef9b960337",
        "colab": {
          "base_uri": "https://localhost:8080/",
          "height": 237
        }
      },
      "execution_count": 132,
      "outputs": [
        {
          "output_type": "execute_result",
          "data": {
            "text/plain": [
              "  lkey  value_x rkey  value_y\n",
              "0  bar        2  bar        6\n",
              "1  baz        3  baz        7\n",
              "2  foo        1  foo        5\n",
              "3  foo        1  foo        8\n",
              "4  foo        5  foo        5\n",
              "5  foo        5  foo        8"
            ],
            "text/html": [
              "<div>\n",
              "<style scoped>\n",
              "    .dataframe tbody tr th:only-of-type {\n",
              "        vertical-align: middle;\n",
              "    }\n",
              "\n",
              "    .dataframe tbody tr th {\n",
              "        vertical-align: top;\n",
              "    }\n",
              "\n",
              "    .dataframe thead th {\n",
              "        text-align: right;\n",
              "    }\n",
              "</style>\n",
              "<table border=\"1\" class=\"dataframe\">\n",
              "  <thead>\n",
              "    <tr style=\"text-align: right;\">\n",
              "      <th></th>\n",
              "      <th>lkey</th>\n",
              "      <th>value_x</th>\n",
              "      <th>rkey</th>\n",
              "      <th>value_y</th>\n",
              "    </tr>\n",
              "  </thead>\n",
              "  <tbody>\n",
              "    <tr>\n",
              "      <th>0</th>\n",
              "      <td>bar</td>\n",
              "      <td>2</td>\n",
              "      <td>bar</td>\n",
              "      <td>6</td>\n",
              "    </tr>\n",
              "    <tr>\n",
              "      <th>1</th>\n",
              "      <td>baz</td>\n",
              "      <td>3</td>\n",
              "      <td>baz</td>\n",
              "      <td>7</td>\n",
              "    </tr>\n",
              "    <tr>\n",
              "      <th>2</th>\n",
              "      <td>foo</td>\n",
              "      <td>1</td>\n",
              "      <td>foo</td>\n",
              "      <td>5</td>\n",
              "    </tr>\n",
              "    <tr>\n",
              "      <th>3</th>\n",
              "      <td>foo</td>\n",
              "      <td>1</td>\n",
              "      <td>foo</td>\n",
              "      <td>8</td>\n",
              "    </tr>\n",
              "    <tr>\n",
              "      <th>4</th>\n",
              "      <td>foo</td>\n",
              "      <td>5</td>\n",
              "      <td>foo</td>\n",
              "      <td>5</td>\n",
              "    </tr>\n",
              "    <tr>\n",
              "      <th>5</th>\n",
              "      <td>foo</td>\n",
              "      <td>5</td>\n",
              "      <td>foo</td>\n",
              "      <td>8</td>\n",
              "    </tr>\n",
              "  </tbody>\n",
              "</table>\n",
              "</div>"
            ]
          },
          "metadata": {},
          "execution_count": 132
        }
      ]
    },
    {
      "cell_type": "code",
      "metadata": {
        "id": "NvyFsE-fLXpg",
        "outputId": "e5dd2fda-6756-4e67-d519-25ff5d17ef8f",
        "colab": {
          "base_uri": "https://localhost:8080/"
        }
      },
      "source": [
        "deaths.printSchema()"
      ],
      "execution_count": 113,
      "outputs": [
        {
          "output_type": "stream",
          "name": "stdout",
          "text": [
            "root\n",
            " |-- Province/State: string (nullable = true)\n",
            " |-- Country/Region: string (nullable = true)\n",
            " |-- Lat: string (nullable = true)\n",
            " |-- Long: string (nullable = true)\n",
            " |-- 1/22/20: string (nullable = true)\n",
            " |-- 1/23/20: string (nullable = true)\n",
            " |-- 1/24/20: string (nullable = true)\n",
            " |-- 1/25/20: string (nullable = true)\n",
            " |-- 1/26/20: string (nullable = true)\n",
            " |-- 1/27/20: string (nullable = true)\n",
            " |-- 1/28/20: string (nullable = true)\n",
            " |-- 1/29/20: string (nullable = true)\n",
            " |-- 1/30/20: string (nullable = true)\n",
            " |-- 1/31/20: string (nullable = true)\n",
            " |-- 2/1/20: string (nullable = true)\n",
            " |-- 2/2/20: string (nullable = true)\n",
            " |-- 2/3/20: string (nullable = true)\n",
            " |-- 2/4/20: string (nullable = true)\n",
            " |-- 2/5/20: string (nullable = true)\n",
            " |-- 2/6/20: string (nullable = true)\n",
            " |-- 2/7/20: string (nullable = true)\n",
            " |-- 2/8/20: string (nullable = true)\n",
            " |-- 2/9/20: string (nullable = true)\n",
            " |-- 2/10/20: string (nullable = true)\n",
            " |-- 2/11/20: string (nullable = true)\n",
            " |-- 2/12/20: string (nullable = true)\n",
            " |-- 2/13/20: string (nullable = true)\n",
            " |-- 2/14/20: string (nullable = true)\n",
            " |-- 2/15/20: string (nullable = true)\n",
            " |-- 2/16/20: string (nullable = true)\n",
            " |-- 2/17/20: string (nullable = true)\n",
            " |-- 2/18/20: string (nullable = true)\n",
            " |-- 2/19/20: string (nullable = true)\n",
            " |-- 2/20/20: string (nullable = true)\n",
            " |-- 2/21/20: string (nullable = true)\n",
            " |-- 2/22/20: string (nullable = true)\n",
            " |-- 2/23/20: string (nullable = true)\n",
            " |-- 2/24/20: string (nullable = true)\n",
            " |-- 2/25/20: string (nullable = true)\n",
            " |-- 2/26/20: string (nullable = true)\n",
            " |-- 2/27/20: string (nullable = true)\n",
            " |-- 2/28/20: string (nullable = true)\n",
            " |-- 2/29/20: string (nullable = true)\n",
            " |-- 3/1/20: string (nullable = true)\n",
            " |-- 3/2/20: string (nullable = true)\n",
            " |-- 3/3/20: string (nullable = true)\n",
            " |-- 3/4/20: string (nullable = true)\n",
            " |-- 3/5/20: string (nullable = true)\n",
            " |-- 3/6/20: string (nullable = true)\n",
            " |-- 3/7/20: string (nullable = true)\n",
            " |-- 3/8/20: string (nullable = true)\n",
            " |-- 3/9/20: string (nullable = true)\n",
            " |-- 3/10/20: string (nullable = true)\n",
            " |-- 3/11/20: string (nullable = true)\n",
            " |-- 3/12/20: string (nullable = true)\n",
            " |-- 3/13/20: string (nullable = true)\n",
            " |-- 3/14/20: string (nullable = true)\n",
            " |-- 3/15/20: string (nullable = true)\n",
            " |-- 3/16/20: string (nullable = true)\n",
            " |-- 3/17/20: string (nullable = true)\n",
            " |-- 3/18/20: string (nullable = true)\n",
            " |-- 3/19/20: string (nullable = true)\n",
            " |-- 3/20/20: string (nullable = true)\n",
            " |-- 3/21/20: string (nullable = true)\n",
            " |-- 3/22/20: string (nullable = true)\n",
            " |-- 3/23/20: string (nullable = true)\n",
            " |-- 3/24/20: string (nullable = true)\n",
            " |-- 3/25/20: string (nullable = true)\n",
            " |-- 3/26/20: string (nullable = true)\n",
            " |-- 3/27/20: string (nullable = true)\n",
            " |-- 3/28/20: string (nullable = true)\n",
            " |-- 3/29/20: string (nullable = true)\n",
            " |-- 3/30/20: string (nullable = true)\n",
            " |-- 3/31/20: string (nullable = true)\n",
            " |-- 4/1/20: string (nullable = true)\n",
            " |-- 4/2/20: string (nullable = true)\n",
            " |-- 4/3/20: string (nullable = true)\n",
            " |-- 4/4/20: string (nullable = true)\n",
            " |-- 4/5/20: string (nullable = true)\n",
            " |-- 4/6/20: string (nullable = true)\n",
            " |-- 4/7/20: string (nullable = true)\n",
            " |-- 4/8/20: string (nullable = true)\n",
            " |-- 4/9/20: string (nullable = true)\n",
            " |-- 4/10/20: string (nullable = true)\n",
            " |-- 4/11/20: string (nullable = true)\n",
            " |-- 4/12/20: string (nullable = true)\n",
            " |-- 4/13/20: string (nullable = true)\n",
            " |-- 4/14/20: string (nullable = true)\n",
            " |-- 4/15/20: string (nullable = true)\n",
            " |-- 4/16/20: string (nullable = true)\n",
            " |-- 4/17/20: string (nullable = true)\n",
            " |-- 4/18/20: string (nullable = true)\n",
            " |-- 4/19/20: string (nullable = true)\n",
            " |-- 4/20/20: string (nullable = true)\n",
            " |-- 4/21/20: string (nullable = true)\n",
            " |-- 4/22/20: string (nullable = true)\n",
            " |-- 4/23/20: string (nullable = true)\n",
            " |-- 4/24/20: string (nullable = true)\n",
            " |-- 4/25/20: string (nullable = true)\n",
            " |-- 4/26/20: string (nullable = true)\n",
            " |-- 4/27/20: string (nullable = true)\n",
            " |-- 4/28/20: string (nullable = true)\n",
            " |-- 4/29/20: string (nullable = true)\n",
            " |-- 4/30/20: string (nullable = true)\n",
            " |-- 5/1/20: string (nullable = true)\n",
            " |-- 5/2/20: string (nullable = true)\n",
            " |-- 5/3/20: string (nullable = true)\n",
            " |-- 5/4/20: string (nullable = true)\n",
            " |-- 5/5/20: string (nullable = true)\n",
            " |-- 5/6/20: string (nullable = true)\n",
            " |-- 5/7/20: string (nullable = true)\n",
            " |-- 5/8/20: string (nullable = true)\n",
            " |-- 5/9/20: string (nullable = true)\n",
            " |-- 5/10/20: string (nullable = true)\n",
            " |-- 5/11/20: string (nullable = true)\n",
            " |-- 5/12/20: string (nullable = true)\n",
            " |-- 5/13/20: string (nullable = true)\n",
            " |-- 5/14/20: string (nullable = true)\n",
            " |-- 5/15/20: string (nullable = true)\n",
            " |-- 5/16/20: string (nullable = true)\n",
            " |-- 5/17/20: string (nullable = true)\n",
            " |-- 5/18/20: string (nullable = true)\n",
            " |-- 5/19/20: string (nullable = true)\n",
            " |-- 5/20/20: string (nullable = true)\n",
            " |-- 5/21/20: string (nullable = true)\n",
            " |-- 5/22/20: string (nullable = true)\n",
            " |-- 5/23/20: string (nullable = true)\n",
            " |-- 5/24/20: string (nullable = true)\n",
            " |-- 5/25/20: string (nullable = true)\n",
            " |-- 5/26/20: string (nullable = true)\n",
            " |-- 5/27/20: string (nullable = true)\n",
            " |-- 5/28/20: string (nullable = true)\n",
            " |-- 5/29/20: string (nullable = true)\n",
            " |-- 5/30/20: string (nullable = true)\n",
            " |-- 5/31/20: string (nullable = true)\n",
            " |-- 6/1/20: string (nullable = true)\n",
            " |-- 6/2/20: string (nullable = true)\n",
            " |-- 6/3/20: string (nullable = true)\n",
            " |-- 6/4/20: string (nullable = true)\n",
            " |-- 6/5/20: string (nullable = true)\n",
            " |-- 6/6/20: string (nullable = true)\n",
            " |-- 6/7/20: string (nullable = true)\n",
            " |-- 6/8/20: string (nullable = true)\n",
            " |-- 6/9/20: string (nullable = true)\n",
            " |-- 6/10/20: string (nullable = true)\n",
            " |-- 6/11/20: string (nullable = true)\n",
            " |-- 6/12/20: string (nullable = true)\n",
            " |-- 6/13/20: string (nullable = true)\n",
            " |-- 6/14/20: string (nullable = true)\n",
            " |-- 6/15/20: string (nullable = true)\n",
            " |-- 6/16/20: string (nullable = true)\n",
            " |-- 6/17/20: string (nullable = true)\n",
            " |-- 6/18/20: string (nullable = true)\n",
            " |-- 6/19/20: string (nullable = true)\n",
            " |-- 6/20/20: string (nullable = true)\n",
            " |-- 6/21/20: string (nullable = true)\n",
            " |-- 6/22/20: string (nullable = true)\n",
            " |-- 6/23/20: string (nullable = true)\n",
            " |-- 6/24/20: string (nullable = true)\n",
            " |-- 6/25/20: string (nullable = true)\n",
            " |-- 6/26/20: string (nullable = true)\n",
            " |-- 6/27/20: string (nullable = true)\n",
            " |-- 6/28/20: string (nullable = true)\n",
            " |-- 6/29/20: string (nullable = true)\n",
            " |-- 6/30/20: string (nullable = true)\n",
            " |-- 7/1/20: string (nullable = true)\n",
            " |-- 7/2/20: string (nullable = true)\n",
            " |-- 7/3/20: string (nullable = true)\n",
            " |-- 7/4/20: string (nullable = true)\n",
            " |-- 7/5/20: string (nullable = true)\n",
            " |-- 7/6/20: string (nullable = true)\n",
            " |-- 7/7/20: string (nullable = true)\n",
            " |-- 7/8/20: string (nullable = true)\n",
            " |-- 7/9/20: string (nullable = true)\n",
            " |-- 7/10/20: string (nullable = true)\n",
            " |-- 7/11/20: string (nullable = true)\n",
            " |-- 7/12/20: string (nullable = true)\n",
            " |-- 7/13/20: string (nullable = true)\n",
            " |-- 7/14/20: string (nullable = true)\n",
            " |-- 7/15/20: string (nullable = true)\n",
            " |-- 7/16/20: string (nullable = true)\n",
            " |-- 7/17/20: string (nullable = true)\n",
            " |-- 7/18/20: string (nullable = true)\n",
            " |-- 7/19/20: string (nullable = true)\n",
            " |-- 7/20/20: string (nullable = true)\n",
            " |-- 7/21/20: string (nullable = true)\n",
            " |-- 7/22/20: string (nullable = true)\n",
            " |-- 7/23/20: string (nullable = true)\n",
            " |-- 7/24/20: string (nullable = true)\n",
            " |-- 7/25/20: string (nullable = true)\n",
            " |-- 7/26/20: string (nullable = true)\n",
            " |-- 7/27/20: string (nullable = true)\n",
            " |-- 7/28/20: string (nullable = true)\n",
            " |-- 7/29/20: string (nullable = true)\n",
            " |-- 7/30/20: string (nullable = true)\n",
            " |-- 7/31/20: string (nullable = true)\n",
            " |-- 8/1/20: string (nullable = true)\n",
            " |-- 8/2/20: string (nullable = true)\n",
            " |-- 8/3/20: string (nullable = true)\n",
            " |-- 8/4/20: string (nullable = true)\n",
            " |-- 8/5/20: string (nullable = true)\n",
            " |-- 8/6/20: string (nullable = true)\n",
            " |-- 8/7/20: string (nullable = true)\n",
            " |-- 8/8/20: string (nullable = true)\n",
            " |-- 8/9/20: string (nullable = true)\n",
            " |-- 8/10/20: string (nullable = true)\n",
            " |-- 8/11/20: string (nullable = true)\n",
            " |-- 8/12/20: string (nullable = true)\n",
            " |-- 8/13/20: string (nullable = true)\n",
            " |-- 8/14/20: string (nullable = true)\n",
            " |-- 8/15/20: string (nullable = true)\n",
            " |-- 8/16/20: string (nullable = true)\n",
            " |-- 8/17/20: string (nullable = true)\n",
            " |-- 8/18/20: string (nullable = true)\n",
            " |-- 8/19/20: string (nullable = true)\n",
            " |-- 8/20/20: string (nullable = true)\n",
            " |-- 8/21/20: string (nullable = true)\n",
            " |-- 8/22/20: string (nullable = true)\n",
            " |-- 8/23/20: string (nullable = true)\n",
            " |-- 8/24/20: string (nullable = true)\n",
            " |-- 8/25/20: string (nullable = true)\n",
            " |-- 8/26/20: string (nullable = true)\n",
            " |-- 8/27/20: string (nullable = true)\n",
            " |-- 8/28/20: string (nullable = true)\n",
            " |-- 8/29/20: string (nullable = true)\n",
            " |-- 8/30/20: string (nullable = true)\n",
            " |-- 8/31/20: string (nullable = true)\n",
            " |-- 9/1/20: string (nullable = true)\n",
            " |-- 9/2/20: string (nullable = true)\n",
            " |-- 9/3/20: string (nullable = true)\n",
            " |-- 9/4/20: string (nullable = true)\n",
            " |-- 9/5/20: string (nullable = true)\n",
            " |-- 9/6/20: string (nullable = true)\n",
            " |-- 9/7/20: string (nullable = true)\n",
            " |-- 9/8/20: string (nullable = true)\n",
            " |-- 9/9/20: string (nullable = true)\n",
            " |-- 9/10/20: string (nullable = true)\n",
            " |-- 9/11/20: string (nullable = true)\n",
            " |-- 9/12/20: string (nullable = true)\n",
            " |-- 9/13/20: string (nullable = true)\n",
            " |-- 9/14/20: string (nullable = true)\n",
            " |-- 9/15/20: string (nullable = true)\n",
            " |-- 9/16/20: string (nullable = true)\n",
            " |-- 9/17/20: string (nullable = true)\n",
            " |-- 9/18/20: string (nullable = true)\n",
            " |-- 9/19/20: string (nullable = true)\n",
            " |-- 9/20/20: string (nullable = true)\n",
            " |-- 9/21/20: string (nullable = true)\n",
            " |-- 9/22/20: string (nullable = true)\n",
            " |-- 9/23/20: string (nullable = true)\n",
            " |-- 9/24/20: string (nullable = true)\n",
            " |-- 9/25/20: string (nullable = true)\n",
            " |-- 9/26/20: string (nullable = true)\n",
            " |-- 9/27/20: string (nullable = true)\n",
            " |-- 9/28/20: string (nullable = true)\n",
            " |-- 9/29/20: string (nullable = true)\n",
            " |-- 9/30/20: string (nullable = true)\n",
            " |-- 10/1/20: string (nullable = true)\n",
            " |-- 10/2/20: string (nullable = true)\n",
            " |-- 10/3/20: string (nullable = true)\n",
            " |-- 10/4/20: string (nullable = true)\n",
            " |-- 10/5/20: string (nullable = true)\n",
            " |-- 10/6/20: string (nullable = true)\n",
            " |-- 10/7/20: string (nullable = true)\n",
            " |-- 10/8/20: string (nullable = true)\n",
            " |-- 10/9/20: string (nullable = true)\n",
            " |-- 10/10/20: string (nullable = true)\n",
            " |-- 10/11/20: string (nullable = true)\n",
            " |-- 10/12/20: string (nullable = true)\n",
            " |-- 10/13/20: string (nullable = true)\n",
            " |-- 10/14/20: string (nullable = true)\n",
            " |-- 10/15/20: string (nullable = true)\n",
            " |-- 10/16/20: string (nullable = true)\n",
            " |-- 10/17/20: string (nullable = true)\n",
            " |-- 10/18/20: string (nullable = true)\n",
            " |-- 10/19/20: string (nullable = true)\n",
            " |-- 10/20/20: string (nullable = true)\n",
            " |-- 10/21/20: string (nullable = true)\n",
            " |-- 10/22/20: string (nullable = true)\n",
            " |-- 10/23/20: string (nullable = true)\n",
            " |-- 10/24/20: string (nullable = true)\n",
            " |-- 10/25/20: string (nullable = true)\n",
            " |-- 10/26/20: string (nullable = true)\n",
            " |-- 10/27/20: string (nullable = true)\n",
            " |-- 10/28/20: string (nullable = true)\n",
            " |-- 10/29/20: string (nullable = true)\n",
            " |-- 10/30/20: string (nullable = true)\n",
            " |-- 10/31/20: string (nullable = true)\n",
            " |-- 11/1/20: string (nullable = true)\n",
            " |-- 11/2/20: string (nullable = true)\n",
            " |-- 11/3/20: string (nullable = true)\n",
            " |-- 11/4/20: string (nullable = true)\n",
            " |-- 11/5/20: string (nullable = true)\n",
            " |-- 11/6/20: string (nullable = true)\n",
            " |-- 11/7/20: string (nullable = true)\n",
            " |-- 11/8/20: string (nullable = true)\n",
            " |-- 11/9/20: string (nullable = true)\n",
            " |-- 11/10/20: string (nullable = true)\n",
            " |-- 11/11/20: string (nullable = true)\n",
            " |-- 11/12/20: string (nullable = true)\n",
            " |-- 11/13/20: string (nullable = true)\n",
            " |-- 11/14/20: string (nullable = true)\n",
            " |-- 11/15/20: string (nullable = true)\n",
            " |-- 11/16/20: string (nullable = true)\n",
            " |-- 11/17/20: string (nullable = true)\n",
            " |-- 11/18/20: string (nullable = true)\n",
            " |-- 11/19/20: string (nullable = true)\n",
            " |-- 11/20/20: string (nullable = true)\n",
            " |-- 11/21/20: string (nullable = true)\n",
            " |-- 11/22/20: string (nullable = true)\n",
            " |-- 11/23/20: string (nullable = true)\n",
            " |-- 11/24/20: string (nullable = true)\n",
            " |-- 11/25/20: string (nullable = true)\n",
            " |-- 11/26/20: string (nullable = true)\n",
            " |-- 11/27/20: string (nullable = true)\n",
            " |-- 11/28/20: string (nullable = true)\n",
            " |-- 11/29/20: string (nullable = true)\n",
            " |-- 11/30/20: string (nullable = true)\n",
            " |-- 12/1/20: string (nullable = true)\n",
            " |-- 12/2/20: string (nullable = true)\n",
            " |-- 12/3/20: string (nullable = true)\n",
            " |-- 12/4/20: string (nullable = true)\n",
            " |-- 12/5/20: string (nullable = true)\n",
            " |-- 12/6/20: string (nullable = true)\n",
            " |-- 12/7/20: string (nullable = true)\n",
            " |-- 12/8/20: string (nullable = true)\n",
            " |-- 12/9/20: string (nullable = true)\n",
            " |-- 12/10/20: string (nullable = true)\n",
            " |-- 12/11/20: string (nullable = true)\n",
            " |-- 12/12/20: string (nullable = true)\n",
            " |-- 12/13/20: string (nullable = true)\n",
            " |-- 12/14/20: string (nullable = true)\n",
            " |-- 12/15/20: string (nullable = true)\n",
            " |-- 12/16/20: string (nullable = true)\n",
            " |-- 12/17/20: string (nullable = true)\n",
            " |-- 12/18/20: string (nullable = true)\n",
            " |-- 12/19/20: string (nullable = true)\n",
            " |-- 12/20/20: string (nullable = true)\n",
            " |-- 12/21/20: string (nullable = true)\n",
            " |-- 12/22/20: string (nullable = true)\n",
            " |-- 12/23/20: string (nullable = true)\n",
            " |-- 12/24/20: string (nullable = true)\n",
            " |-- 12/25/20: string (nullable = true)\n",
            " |-- 12/26/20: string (nullable = true)\n",
            " |-- 12/27/20: string (nullable = true)\n",
            " |-- 12/28/20: string (nullable = true)\n",
            " |-- 12/29/20: string (nullable = true)\n",
            " |-- 12/30/20: string (nullable = true)\n",
            " |-- 12/31/20: string (nullable = true)\n",
            " |-- 1/1/21: string (nullable = true)\n",
            " |-- 1/2/21: string (nullable = true)\n",
            " |-- 1/3/21: string (nullable = true)\n",
            " |-- 1/4/21: string (nullable = true)\n",
            " |-- 1/5/21: string (nullable = true)\n",
            " |-- 1/6/21: string (nullable = true)\n",
            " |-- 1/7/21: string (nullable = true)\n",
            " |-- 1/8/21: string (nullable = true)\n",
            " |-- 1/9/21: string (nullable = true)\n",
            " |-- 1/10/21: string (nullable = true)\n",
            " |-- 1/11/21: string (nullable = true)\n",
            " |-- 1/12/21: string (nullable = true)\n",
            " |-- 1/13/21: string (nullable = true)\n",
            " |-- 1/14/21: string (nullable = true)\n",
            " |-- 1/15/21: string (nullable = true)\n",
            " |-- 1/16/21: string (nullable = true)\n",
            " |-- 1/17/21: string (nullable = true)\n",
            " |-- 1/18/21: string (nullable = true)\n",
            " |-- 1/19/21: string (nullable = true)\n",
            " |-- 1/20/21: string (nullable = true)\n",
            " |-- 1/21/21: string (nullable = true)\n",
            " |-- 1/22/21: string (nullable = true)\n",
            " |-- 1/23/21: string (nullable = true)\n",
            " |-- 1/24/21: string (nullable = true)\n",
            " |-- 1/25/21: string (nullable = true)\n",
            " |-- 1/26/21: string (nullable = true)\n",
            " |-- 1/27/21: string (nullable = true)\n",
            " |-- 1/28/21: string (nullable = true)\n",
            " |-- 1/29/21: string (nullable = true)\n",
            " |-- 1/30/21: string (nullable = true)\n",
            " |-- 1/31/21: string (nullable = true)\n",
            " |-- 2/1/21: string (nullable = true)\n",
            " |-- 2/2/21: string (nullable = true)\n",
            " |-- 2/3/21: string (nullable = true)\n",
            " |-- 2/4/21: string (nullable = true)\n",
            " |-- 2/5/21: string (nullable = true)\n",
            " |-- 2/6/21: string (nullable = true)\n",
            " |-- 2/7/21: string (nullable = true)\n",
            " |-- 2/8/21: string (nullable = true)\n",
            " |-- 2/9/21: string (nullable = true)\n",
            " |-- 2/10/21: string (nullable = true)\n",
            " |-- 2/11/21: string (nullable = true)\n",
            " |-- 2/12/21: string (nullable = true)\n",
            " |-- 2/13/21: string (nullable = true)\n",
            " |-- 2/14/21: string (nullable = true)\n",
            " |-- 2/15/21: string (nullable = true)\n",
            " |-- 2/16/21: string (nullable = true)\n",
            " |-- 2/17/21: string (nullable = true)\n",
            " |-- 2/18/21: string (nullable = true)\n",
            " |-- 2/19/21: string (nullable = true)\n",
            " |-- 2/20/21: string (nullable = true)\n",
            " |-- 2/21/21: string (nullable = true)\n",
            " |-- 2/22/21: string (nullable = true)\n",
            " |-- 2/23/21: string (nullable = true)\n",
            " |-- 2/24/21: string (nullable = true)\n",
            " |-- 2/25/21: string (nullable = true)\n",
            " |-- 2/26/21: string (nullable = true)\n",
            " |-- 2/27/21: string (nullable = true)\n",
            " |-- 2/28/21: string (nullable = true)\n",
            " |-- 3/1/21: string (nullable = true)\n",
            " |-- 3/2/21: string (nullable = true)\n",
            " |-- 3/3/21: string (nullable = true)\n",
            " |-- 3/4/21: string (nullable = true)\n",
            " |-- 3/5/21: string (nullable = true)\n",
            " |-- 3/6/21: string (nullable = true)\n",
            " |-- 3/7/21: string (nullable = true)\n",
            " |-- 3/8/21: string (nullable = true)\n",
            " |-- 3/9/21: string (nullable = true)\n",
            " |-- 3/10/21: string (nullable = true)\n",
            " |-- 3/11/21: string (nullable = true)\n",
            " |-- 3/12/21: string (nullable = true)\n",
            " |-- 3/13/21: string (nullable = true)\n",
            " |-- 3/14/21: string (nullable = true)\n",
            " |-- 3/15/21: string (nullable = true)\n",
            " |-- 3/16/21: string (nullable = true)\n",
            " |-- 3/17/21: string (nullable = true)\n",
            " |-- 3/18/21: string (nullable = true)\n",
            " |-- 3/19/21: string (nullable = true)\n",
            " |-- 3/20/21: string (nullable = true)\n",
            " |-- 3/21/21: string (nullable = true)\n",
            " |-- 3/22/21: string (nullable = true)\n",
            " |-- 3/23/21: string (nullable = true)\n",
            " |-- 3/24/21: string (nullable = true)\n",
            " |-- 3/25/21: string (nullable = true)\n",
            " |-- 3/26/21: string (nullable = true)\n",
            " |-- 3/27/21: string (nullable = true)\n",
            " |-- 3/28/21: string (nullable = true)\n",
            " |-- 3/29/21: string (nullable = true)\n",
            " |-- 3/30/21: string (nullable = true)\n",
            " |-- 3/31/21: string (nullable = true)\n",
            " |-- 4/1/21: string (nullable = true)\n",
            " |-- 4/2/21: string (nullable = true)\n",
            " |-- 4/3/21: string (nullable = true)\n",
            " |-- 4/4/21: string (nullable = true)\n",
            " |-- 4/5/21: string (nullable = true)\n",
            " |-- 4/6/21: string (nullable = true)\n",
            " |-- 4/7/21: string (nullable = true)\n",
            " |-- 4/8/21: string (nullable = true)\n",
            " |-- 4/9/21: string (nullable = true)\n",
            " |-- 4/10/21: string (nullable = true)\n",
            " |-- 4/11/21: string (nullable = true)\n",
            " |-- 4/12/21: string (nullable = true)\n",
            " |-- 4/13/21: string (nullable = true)\n",
            " |-- 4/14/21: string (nullable = true)\n",
            " |-- 4/15/21: string (nullable = true)\n",
            " |-- 4/16/21: string (nullable = true)\n",
            " |-- 4/17/21: string (nullable = true)\n",
            " |-- 4/18/21: string (nullable = true)\n",
            " |-- 4/19/21: string (nullable = true)\n",
            " |-- 4/20/21: string (nullable = true)\n",
            " |-- 4/21/21: string (nullable = true)\n",
            " |-- 4/22/21: string (nullable = true)\n",
            " |-- 4/23/21: string (nullable = true)\n",
            " |-- 4/24/21: string (nullable = true)\n",
            " |-- 4/25/21: string (nullable = true)\n",
            " |-- 4/26/21: string (nullable = true)\n",
            " |-- 4/27/21: string (nullable = true)\n",
            " |-- 4/28/21: string (nullable = true)\n",
            " |-- 4/29/21: string (nullable = true)\n",
            " |-- 4/30/21: string (nullable = true)\n",
            " |-- 5/1/21: string (nullable = true)\n",
            " |-- 5/2/21: string (nullable = true)\n",
            " |-- 5/3/21: string (nullable = true)\n",
            " |-- 5/4/21: string (nullable = true)\n",
            " |-- 5/5/21: string (nullable = true)\n",
            " |-- 5/6/21: string (nullable = true)\n",
            " |-- 5/7/21: string (nullable = true)\n",
            " |-- 5/8/21: string (nullable = true)\n",
            " |-- 5/9/21: string (nullable = true)\n",
            " |-- 5/10/21: string (nullable = true)\n",
            " |-- 5/11/21: string (nullable = true)\n",
            " |-- 5/12/21: string (nullable = true)\n",
            " |-- 5/13/21: string (nullable = true)\n",
            " |-- 5/14/21: string (nullable = true)\n",
            " |-- 5/15/21: string (nullable = true)\n",
            " |-- 5/16/21: string (nullable = true)\n",
            " |-- 5/17/21: string (nullable = true)\n",
            " |-- 5/18/21: string (nullable = true)\n",
            "\n"
          ]
        }
      ]
    },
    {
      "cell_type": "markdown",
      "metadata": {
        "id": "WV45mAMfrmxA"
      },
      "source": [
        "### Your Task"
      ]
    },
    {
      "cell_type": "markdown",
      "metadata": {
        "id": "iLLbq024rr9l"
      },
      "source": [
        "We are aware of the stress we are all experiencing because of the still-ongoing pandemic and the fact that many of you have projects and exams due this week. As such, we decided to conclude our series of Colabs with a **lightweight task** -- given everything you have learned about Spark during the quarter, this Colab should take you just a few minutes to complete."
      ]
    },
    {
      "cell_type": "markdown",
      "metadata": {
        "id": "4wYiCEv_zhVf"
      },
      "source": [
        "Consider the entries for May 1, 2021, in the timeseries, and compute:\n",
        "\n",
        "\n",
        "*   number of confirmed COVID-19 cases across the globe\n",
        "*   number of deaths due to COVID-19 (across the globe)\n",
        "*   number of recovered patients across the globe\n",
        "\n"
      ]
    },
    {
      "cell_type": "code",
      "metadata": {
        "id": "w-Hoy-9Xzf8r",
        "outputId": "86d3f9de-c9a0-45ed-af7a-688a5cea1ccf",
        "colab": {
          "base_uri": "https://localhost:8080/"
        }
      },
      "source": [
        "''' 6 lines of code in total expected. '''\n",
        "\n",
        "# YOUR CODE HERE\n",
        "num_conf = confirmed.select(sum('5/1/21')).collect()[0][0]\n",
        "num_deaths = deaths.select(sum('5/1/21')).collect()[0][0]\n",
        "num_rec = recovered.select(sum('5/1/21')).collect()[0][0]\n",
        "\n",
        "print(f\"number of confirmed cases: {num_conf}\")\n",
        "print(f\"number of deaths: {num_deaths}\")\n",
        "print(f\"number of recovered: {num_rec}\")"
      ],
      "execution_count": 74,
      "outputs": [
        {
          "output_type": "stream",
          "name": "stdout",
          "text": [
            "number of confirmed cases: 152196159.0\n",
            "number of deaths: 3192930.0\n",
            "number of recovered: 88919401.0\n"
          ]
        }
      ]
    },
    {
      "cell_type": "markdown",
      "metadata": {
        "id": "yahkAHoS0HuU"
      },
      "source": [
        "Consider the data points for March 1, 2020, and March 1, 2021, and filter out the geographical locations where less than 50 cases have been confirmed.\n",
        "For the areas still taken into consideration after the filtering step, compute the ratio between number of deaths and number of confirmed cases."
      ]
    },
    {
      "cell_type": "code",
      "source": [
        "deaths_grp = deaths.groupby(['Province/State', 'Country/Region']).agg(sum('3/1/20').alias(\"deaths_20\"),\n",
        "                                                                      sum('3/1/21').alias(\"deaths_21\"))\n",
        "deaths_grp.show()"
      ],
      "metadata": {
        "id": "mloYpUiZ8u7X",
        "outputId": "0e3067d6-1faa-4337-eaf6-fe7e1598bb86",
        "colab": {
          "base_uri": "https://localhost:8080/"
        }
      },
      "execution_count": 194,
      "outputs": [
        {
          "output_type": "stream",
          "name": "stdout",
          "text": [
            "+--------------+--------------+---------+---------+\n",
            "|Province/State|Country/Region|deaths_20|deaths_21|\n",
            "+--------------+--------------+---------+---------+\n",
            "|    Martinique|        France|      0.0|     45.0|\n",
            "|          null|          Chad|      0.0|    140.0|\n",
            "|         Gansu|         China|      2.0|      2.0|\n",
            "| Faroe Islands|       Denmark|      0.0|      1.0|\n",
            "|          null|      Paraguay|      0.0|   3198.0|\n",
            "|          null|        Russia|      0.0|  85025.0|\n",
            "|  Heilongjiang|         China|     13.0|     13.0|\n",
            "|          null|         Yemen|      0.0|    634.0|\n",
            "|          null|       Senegal|      0.0|    880.0|\n",
            "|          null|    Cabo Verde|      0.0|    147.0|\n",
            "|          null|        Sweden|      0.0|  12826.0|\n",
            "|          null|        Guyana|      0.0|    197.0|\n",
            "|          null|         Burma|      0.0|   3199.0|\n",
            "|          null|       Eritrea|      0.0|      7.0|\n",
            "|          null|   Philippines|      1.0|  12322.0|\n",
            "|          null|      Djibouti|      0.0|     63.0|\n",
            "|          null|      Malaysia|      0.0|   1135.0|\n",
            "|          null|     Singapore|      0.0|     29.0|\n",
            "|        Fujian|         China|      1.0|      1.0|\n",
            "|          null|          Fiji|      0.0|      2.0|\n",
            "+--------------+--------------+---------+---------+\n",
            "only showing top 20 rows\n",
            "\n"
          ]
        }
      ]
    },
    {
      "cell_type": "code",
      "metadata": {
        "id": "8FwzsH4l1VCZ",
        "outputId": "a619f7cd-65ee-4640-cbca-6f471f17147c",
        "colab": {
          "base_uri": "https://localhost:8080/"
        }
      },
      "source": [
        "''' 20-25 lines of code in total expected but can differ based on your style. '''\n",
        "''' For sub-parts of the question (if any), creating different cells of code would be recommended.'''\n",
        "\n",
        "# YOUR CODE HERE\n",
        "conf_grp = confirmed.groupby(['Province/State', 'Country/Region']).agg(sum('3/1/20').alias(\"conf_20\"),\n",
        "                                                                          sum('3/1/21').alias(\"conf_21\"))\n",
        "conf_grp_filter = conf_grp.filter((col('conf_20') > 50) & (col('conf_21') > 50))\n",
        "conf_grp_filter.show()"
      ],
      "execution_count": 195,
      "outputs": [
        {
          "output_type": "stream",
          "name": "stdout",
          "text": [
            "+--------------+--------------+-------+---------+\n",
            "|Province/State|Country/Region|conf_20|  conf_21|\n",
            "+--------------+--------------+-------+---------+\n",
            "|         Gansu|         China|   91.0|    187.0|\n",
            "|  Heilongjiang|         China|  480.0|   1610.0|\n",
            "|          null|     Singapore|  106.0|  59948.0|\n",
            "|        Fujian|         China|  296.0|    551.0|\n",
            "|          null|       Germany|  130.0|2455569.0|\n",
            "|      Shanghai|         China|  337.0|   1797.0|\n",
            "|          null|        France|  130.0|3736390.0|\n",
            "|     Guangdong|         China| 1349.0|   2215.0|\n",
            "|        Hainan|         China|  168.0|    171.0|\n",
            "|        Shanxi|         China|  133.0|    240.0|\n",
            "|     Chongqing|         China|  576.0|    591.0|\n",
            "|       Beijing|         China|  413.0|   1049.0|\n",
            "|         Hebei|         China|  318.0|   1317.0|\n",
            "|      Liaoning|         China|  122.0|    406.0|\n",
            "|         Henan|         China| 1272.0|   1305.0|\n",
            "|       Guangxi|         China|  252.0|    267.0|\n",
            "|          null|         Italy| 1694.0|2938371.0|\n",
            "|       Jiangxi|         China|  935.0|    935.0|\n",
            "|          null|         Spain|   84.0|3204531.0|\n",
            "|          null|          Iran|  978.0|1639679.0|\n",
            "+--------------+--------------+-------+---------+\n",
            "only showing top 20 rows\n",
            "\n"
          ]
        }
      ]
    },
    {
      "cell_type": "code",
      "source": [
        "conf_grp_filter.count()"
      ],
      "metadata": {
        "id": "w9-oP01ODtyF",
        "outputId": "030ed680-8e54-438c-dd8f-bec3d087e5f1",
        "colab": {
          "base_uri": "https://localhost:8080/"
        }
      },
      "execution_count": 155,
      "outputs": [
        {
          "output_type": "execute_result",
          "data": {
            "text/plain": [
              "40"
            ]
          },
          "metadata": {},
          "execution_count": 155
        }
      ]
    },
    {
      "cell_type": "code",
      "source": [
        "conf_deaths_join = conf_grp_filter.join(deaths_grp, ['Province/State', 'Country/Region']).select(col('Province/State'), col('Country/Region'),\\\n",
        "                                                                                             col('conf_20'), col('conf_21'),\\\n",
        "                                                                                             col('deaths_20'), col('deaths_21'))\n",
        "\n",
        "conf_deaths_join.show()"
      ],
      "metadata": {
        "id": "BEqi2ZANCIYh",
        "outputId": "a7d64a56-e06a-4b10-c2e7-9e8b2477e40a",
        "colab": {
          "base_uri": "https://localhost:8080/"
        }
      },
      "execution_count": 196,
      "outputs": [
        {
          "output_type": "stream",
          "name": "stdout",
          "text": [
            "+--------------+--------------+-------+-------+---------+---------+\n",
            "|Province/State|Country/Region|conf_20|conf_21|deaths_20|deaths_21|\n",
            "+--------------+--------------+-------+-------+---------+---------+\n",
            "|         Gansu|         China|   91.0|  187.0|      2.0|      2.0|\n",
            "|  Heilongjiang|         China|  480.0| 1610.0|     13.0|     13.0|\n",
            "|        Fujian|         China|  296.0|  551.0|      1.0|      1.0|\n",
            "|      Shanghai|         China|  337.0| 1797.0|      3.0|      7.0|\n",
            "|     Guangdong|         China| 1349.0| 2215.0|      7.0|      8.0|\n",
            "|        Hainan|         China|  168.0|  171.0|      5.0|      6.0|\n",
            "|        Shanxi|         China|  133.0|  240.0|      0.0|      0.0|\n",
            "|     Chongqing|         China|  576.0|  591.0|      6.0|      6.0|\n",
            "|       Beijing|         China|  413.0| 1049.0|      8.0|      9.0|\n",
            "|         Hebei|         China|  318.0| 1317.0|      6.0|      7.0|\n",
            "|      Liaoning|         China|  122.0|  406.0|      1.0|      2.0|\n",
            "|         Henan|         China| 1272.0| 1305.0|     22.0|     22.0|\n",
            "|       Guangxi|         China|  252.0|  267.0|      2.0|      2.0|\n",
            "|       Jiangxi|         China|  935.0|  935.0|      1.0|      1.0|\n",
            "|         Jilin|         China|   93.0|  573.0|      1.0|      3.0|\n",
            "|         Hunan|         China| 1018.0| 1036.0|      4.0|      4.0|\n",
            "|Inner Mongolia|         China|   75.0|  367.0|      0.0|      1.0|\n",
            "|       Jiangsu|         China|  631.0|  704.0|      0.0|      0.0|\n",
            "|       Shaanxi|         China|  245.0|  552.0|      1.0|      3.0|\n",
            "|       Tianjin|         China|  136.0|  357.0|      3.0|      3.0|\n",
            "+--------------+--------------+-------+-------+---------+---------+\n",
            "only showing top 20 rows\n",
            "\n"
          ]
        }
      ]
    },
    {
      "cell_type": "code",
      "source": [
        "conf_deaths_ratio = conf_deaths_join.withColumn('death_ratio_20', round(col('deaths_20')/col('conf_20'), 4)).\\\n",
        "                                     withColumn('death_ratio_21', round(col('deaths_20')/col('conf_21'), 4))\n",
        "conf_deaths_ratio.show()"
      ],
      "metadata": {
        "id": "eu6njf3pEuIv",
        "outputId": "8e40a94a-aad2-4905-ed92-00603c788721",
        "colab": {
          "base_uri": "https://localhost:8080/"
        }
      },
      "execution_count": 197,
      "outputs": [
        {
          "output_type": "stream",
          "name": "stdout",
          "text": [
            "+--------------+--------------+-------+-------+---------+---------+--------------+--------------+\n",
            "|Province/State|Country/Region|conf_20|conf_21|deaths_20|deaths_21|death_ratio_20|death_ratio_21|\n",
            "+--------------+--------------+-------+-------+---------+---------+--------------+--------------+\n",
            "|         Gansu|         China|   91.0|  187.0|      2.0|      2.0|         0.022|        0.0107|\n",
            "|  Heilongjiang|         China|  480.0| 1610.0|     13.0|     13.0|        0.0271|        0.0081|\n",
            "|        Fujian|         China|  296.0|  551.0|      1.0|      1.0|        0.0034|        0.0018|\n",
            "|      Shanghai|         China|  337.0| 1797.0|      3.0|      7.0|        0.0089|        0.0017|\n",
            "|     Guangdong|         China| 1349.0| 2215.0|      7.0|      8.0|        0.0052|        0.0032|\n",
            "|        Hainan|         China|  168.0|  171.0|      5.0|      6.0|        0.0298|        0.0292|\n",
            "|        Shanxi|         China|  133.0|  240.0|      0.0|      0.0|           0.0|           0.0|\n",
            "|     Chongqing|         China|  576.0|  591.0|      6.0|      6.0|        0.0104|        0.0102|\n",
            "|       Beijing|         China|  413.0| 1049.0|      8.0|      9.0|        0.0194|        0.0076|\n",
            "|         Hebei|         China|  318.0| 1317.0|      6.0|      7.0|        0.0189|        0.0046|\n",
            "|      Liaoning|         China|  122.0|  406.0|      1.0|      2.0|        0.0082|        0.0025|\n",
            "|         Henan|         China| 1272.0| 1305.0|     22.0|     22.0|        0.0173|        0.0169|\n",
            "|       Guangxi|         China|  252.0|  267.0|      2.0|      2.0|        0.0079|        0.0075|\n",
            "|       Jiangxi|         China|  935.0|  935.0|      1.0|      1.0|        0.0011|        0.0011|\n",
            "|         Jilin|         China|   93.0|  573.0|      1.0|      3.0|        0.0108|        0.0017|\n",
            "|         Hunan|         China| 1018.0| 1036.0|      4.0|      4.0|        0.0039|        0.0039|\n",
            "|Inner Mongolia|         China|   75.0|  367.0|      0.0|      1.0|           0.0|           0.0|\n",
            "|       Jiangsu|         China|  631.0|  704.0|      0.0|      0.0|           0.0|           0.0|\n",
            "|       Shaanxi|         China|  245.0|  552.0|      1.0|      3.0|        0.0041|        0.0018|\n",
            "|       Tianjin|         China|  136.0|  357.0|      3.0|      3.0|        0.0221|        0.0084|\n",
            "+--------------+--------------+-------+-------+---------+---------+--------------+--------------+\n",
            "only showing top 20 rows\n",
            "\n"
          ]
        }
      ]
    },
    {
      "cell_type": "markdown",
      "metadata": {
        "id": "MLBtZyFqPKkI"
      },
      "source": [
        "Consider the data points for March 1, 2021, and May 1, 2021, in the timeseries, and filter out the geographical locations where less than 50 deaths have been confirmed (as of March 1, 2021).\n",
        "For the areas still taken into consideration after the filtering step, compute the percent increase in cumulative deaths between the two dates."
      ]
    },
    {
      "cell_type": "code",
      "metadata": {
        "id": "FUWisUyMPI9A",
        "outputId": "ed54e05d-55d4-4c19-8d9e-1380018004af",
        "colab": {
          "base_uri": "https://localhost:8080/"
        }
      },
      "source": [
        "''' 4-5 lines of code in total expected. '''\n",
        "\n",
        "# YOUR CODE HERE\n",
        "deaths_21 = deaths.groupby(['Province/State', 'Country/Region']).agg(sum('3/1/21').alias(\"deaths_mar\"),\n",
        "                                                                     sum('5/1/21').alias(\"deaths_may\"))\n",
        "conf_21 = confirmed.groupby(['Province/State', 'Country/Region']).agg(sum('3/1/21').alias(\"conf_mar\"),\n",
        "                                                                      sum('5/1/21').alias(\"conf_may\"))\n",
        "\n",
        "conf_21_filter = conf_21.filter((col('conf_may') > 50) & (col('conf_mar') > 50))\n",
        "\n",
        "conf_death_21_ratio = conf_21_filter.join(deaths_21, ['Province/State', 'Country/Region'])\n",
        "\n",
        "conf_death_21_ratio = conf_death_21_ratio.withColumn('ratio_mar', round(col('deaths_mar')/col('conf_mar'), 4))\\\n",
        "                                          .withColumn('ratio_may', round(col('deaths_may')/col('conf_may'), 4))\n",
        "\n",
        "conf_death_21_ratio.show()"
      ],
      "execution_count": 213,
      "outputs": [
        {
          "output_type": "stream",
          "name": "stdout",
          "text": [
            "+--------------------+--------------+--------+--------+----------+----------+---------+---------+\n",
            "|      Province/State|Country/Region|conf_mar|conf_may|deaths_mar|deaths_may|ratio_mar|ratio_may|\n",
            "+--------------------+--------------+--------+--------+----------+----------+---------+---------+\n",
            "|          Martinique|        France|  6746.0| 10491.0|      45.0|      70.0|   0.0067|   0.0067|\n",
            "|               Gansu|         China|   187.0|   193.0|       2.0|       2.0|   0.0107|   0.0104|\n",
            "|       Faroe Islands|       Denmark|   658.0|   664.0|       1.0|       1.0|   0.0015|   0.0015|\n",
            "|        Heilongjiang|         China|  1610.0|  1610.0|      13.0|      13.0|   0.0081|   0.0081|\n",
            "|              Fujian|         China|   551.0|   593.0|       1.0|       1.0|   0.0018|   0.0017|\n",
            "|    French Polynesia|        France| 18414.0| 18758.0|     139.0|     141.0|   0.0075|   0.0075|\n",
            "|Australian Capita...|     Australia|   118.0|   124.0|       3.0|       3.0|   0.0254|   0.0242|\n",
            "|     New South Wales|     Australia|  5183.0|  5484.0|      54.0|      54.0|   0.0104|   0.0098|\n",
            "|            Shanghai|         China|  1797.0|  1991.0|       7.0|       7.0|   0.0039|   0.0035|\n",
            "|           Guangdong|         China|  2215.0|  2350.0|       8.0|       8.0|   0.0036|   0.0034|\n",
            "|              Hainan|         China|   171.0|   188.0|       6.0|       6.0|   0.0351|   0.0319|\n",
            "|              Shanxi|         China|   240.0|   251.0|       0.0|       0.0|      0.0|      0.0|\n",
            "|          Queensland|     Australia|  1335.0|  1564.0|       6.0|       7.0|   0.0045|   0.0045|\n",
            "|         Nova Scotia|        Canada|  1642.0|  2575.0|      65.0|      67.0|   0.0396|    0.026|\n",
            "|    British Columbia|        Canada| 80672.0|129482.0|    1363.0|    1581.0|   0.0169|   0.0122|\n",
            "|Turks and Caicos ...|United Kingdom|  2114.0|  2390.0|      14.0|      17.0|   0.0066|   0.0071|\n",
            "|Falkland Islands ...|United Kingdom|    54.0|    63.0|       0.0|       0.0|      0.0|      0.0|\n",
            "|        Sint Maarten|   Netherlands|  2060.0|  2230.0|      27.0|      27.0|   0.0131|   0.0121|\n",
            "|       New Brunswick|        Canada|  1431.0|  1933.0|      27.0|      36.0|   0.0189|   0.0186|\n",
            "|        Saskatchewan|        Canada| 28801.0| 41360.0|     385.0|     494.0|   0.0134|   0.0119|\n",
            "+--------------------+--------------+--------+--------+----------+----------+---------+---------+\n",
            "only showing top 20 rows\n",
            "\n"
          ]
        }
      ]
    },
    {
      "cell_type": "markdown",
      "metadata": {
        "id": "SIrXJyVNP2AI"
      },
      "source": [
        "Once you have working code for each cell above, **head over to Gradescope, read the questions carefully, and submit your solution for this Colab**!"
      ]
    }
  ]
}